{
 "cells": [
  {
   "cell_type": "code",
   "execution_count": 1,
   "metadata": {},
   "outputs": [
    {
     "name": "stdout",
     "output_type": "stream",
     "text": [
      "/home/jack/miniconda3/envs/VLLM_env/bin/python\n",
      "3.10.16 (main, Dec 11 2024, 16:24:50) [GCC 11.2.0]\n",
      "图像文件完整！\n"
     ]
    }
   ],
   "source": [
    "import sys\n",
    "print(sys.executable)\n",
    "print(sys.version)\n",
    "\n",
    "from PIL import Image\n",
    "\n",
    "# 替换为你的实际路径\n",
    "image_path = \"/home/jack/桌面/qwen_vl_image/nuplan_drive1(1).png\"\n",
    "\n",
    "try:\n",
    "    img = Image.open(image_path)\n",
    "    img.verify()  # 验证文件完整性\n",
    "    print(\"图像文件完整！\")\n",
    "except Exception as e:\n",
    "    print(f\"图像文件损坏或无法读取: {str(e)}\")"
   ]
  },
  {
   "cell_type": "code",
   "execution_count": 2,
   "metadata": {},
   "outputs": [
    {
     "name": "stdout",
     "output_type": "stream",
     "text": [
      "1.26.4\n",
      "2.2.1 True\n",
      "Transformers版本兼容！\n"
     ]
    }
   ],
   "source": [
    "from transformers import Qwen2_5_VLForConditionalGeneration, AutoTokenizer, AutoProcessor\n",
    "from qwen_vl_utils import process_vision_info\n",
    "from awq import AutoAWQForCausalLM\n",
    "import torch\n",
    "import numpy\n",
    "print(numpy.__version__)\n",
    "print(torch.__version__, torch.cuda.is_available())  # 显示 PyTorch 版本和 CUDA 可用性\n",
    "from transformers import Qwen2_5_VLForConditionalGeneration\n",
    "print('Transformers版本兼容！')  # 确认 Transformers 版本兼容\n",
    "\n"
   ]
  },
  {
   "cell_type": "code",
   "execution_count": 3,
   "metadata": {},
   "outputs": [
    {
     "data": {
      "application/vnd.jupyter.widget-view+json": {
       "model_id": "b59288a9d4a5449bb658ca9b6e07013f",
       "version_major": 2,
       "version_minor": 0
      },
      "text/plain": [
       "Loading checkpoint shards:   0%|          | 0/2 [00:00<?, ?it/s]"
      ]
     },
     "metadata": {},
     "output_type": "display_data"
    },
    {
     "name": "stderr",
     "output_type": "stream",
     "text": [
      "Using a slow image processor as `use_fast` is unset and a slow processor was saved with this model. `use_fast=True` will be the default behavior in v4.52, even if the model was saved with a slow processor. This will result in minor differences in outputs. You'll still be able to use a slow processor with `use_fast=False`.\n"
     ]
    }
   ],
   "source": [
    "# 加载模型与处理器（自动分配显存）\n",
    "model_path = \"/home/jack/桌面/Qwen2.5-VL-7B-Instruct-AWQ\"\n",
    "\n",
    "model = Qwen2_5_VLForConditionalGeneration.from_pretrained(\n",
    "    model_path,\n",
    "    device_map={\"\": \"cuda:0\"},\n",
    "    trust_remote_code=True,\n",
    "    torch_dtype=torch.float16,  # AWQ模型推荐使用半精度\n",
    ")\n",
    "processor = AutoProcessor.from_pretrained(model_path)\n"
   ]
  },
  {
   "cell_type": "code",
   "execution_count": 12,
   "metadata": {},
   "outputs": [
    {
     "name": "stdout",
     "output_type": "stream",
     "text": [
      "模型输出： system\n",
      "You are a helpful assistant.\n",
      "user\n",
      "分析自动驾驶BEV图像，图像元素如下：白色矩形：自身车辆（ego vehicle），位于视野中央。绿色矩形及其矢量线段：其他车辆及其位移矢量。\n",
      "            紫色圆形及其矢量：行人及其位移矢量。橙色曲线：ego车辆已执行的规划路径。绿色曲线：ego车辆未来规划未执行的路径。深蓝色区域：车辆可行区域。任务：识别长尾\n",
      "            场景（如行人突然横穿、盲区物体、异常车辆行为），避免强制预警，仅输出潜在风险的分析，最好给出事实推理。语句尽量简短重要\n",
      "assistant\n",
      "1. 车辆右侧存在潜在盲区，可能有行人或障碍物。\n",
      "2. 左侧车道有车辆接近，需注意避让。\n"
     ]
    }
   ],
   "source": [
    "# 输入示例（替换为本地图像路径）\n",
    "messages = [\n",
    "    {\n",
    "        \"role\": \"user\",\n",
    "        \"content\": [\n",
    "            {\"type\": \"image\", \"image\": \"/home/jack/桌面/qwen_vl_image/nuplan_drive1(1).png\"},\n",
    "            {\"type\": \"text\", \"text\": \"\"\"分析自动驾驶BEV图像，图像元素如下：白色矩形：自身车辆（ego vehicle），位于视野中央。绿色矩形及其矢量线段：其他车辆及其位移矢量。\n",
    "            紫色圆形及其矢量：行人及其位移矢量。橙色曲线：ego车辆已执行的规划路径。绿色曲线：ego车辆未来规划未执行的路径。深蓝色区域：车辆可行区域。任务：识别长尾\n",
    "            场景（如行人突然横穿、盲区物体、异常车辆行为），避免强制预警，仅输出潜在风险的分析，最好给出事实推理。语句尽量简短重要\"\"\"}\n",
    "        ]\n",
    "    }\n",
    "]\n",
    "\n",
    "# 预处理与推理\n",
    "text = processor.apply_chat_template(messages, tokenize=False, add_generation_prompt=True)\n",
    "image_inputs, _ = process_vision_info(messages)\n",
    "inputs = processor(\n",
    "    text=[text],\n",
    "    images=image_inputs,\n",
    "    return_tensors=\"pt\"\n",
    ").to(\"cuda\")\n",
    "\n",
    "# 生成响应（限制输出结构）\n",
    "generated_ids = model.generate(\n",
    "    **inputs,\n",
    "    max_new_tokens=120,\n",
    "    temperature=0.1,  # 降低随机性\n",
    "    do_sample=False\n",
    ")\n",
    "output_text = processor.batch_decode(generated_ids, skip_special_tokens=True)[0]\n",
    "print(\"模型输出：\", output_text)"
   ]
  },
  {
   "cell_type": "code",
   "execution_count": 15,
   "metadata": {},
   "outputs": [
    {
     "name": "stdout",
     "output_type": "stream",
     "text": [
      "Environment Configuration:\n",
      "PyTorch Version: 2.2.1\n",
      "CUDA Version: 12.1\n",
      "Transformers Version: 4.52.0.dev0\n",
      "Triton Version: 3.0.0\n",
      "AutoAWQ Version: 0.2.8\n"
     ]
    }
   ],
   "source": [
    "import torch\n",
    "import transformers\n",
    "\n",
    "# 检查 PyTorch 版本\n",
    "pytorch_version = torch.__version__\n",
    "cuda_version = torch.version.cuda if torch.cuda.is_available() else \"CUDA not available\"\n",
    "\n",
    "# 检查 Transformers 版本\n",
    "transformers_version = transformers.__version__\n",
    "\n",
    "# Triton 和 AutoAWQ 版本（如果已安装）\n",
    "try:\n",
    "    import triton\n",
    "    triton_version = triton.__version__\n",
    "except ImportError:\n",
    "    triton_version = \"Triton not installed\"\n",
    "\n",
    "try:\n",
    "    import awq\n",
    "    autoawq_version = awq.__version__\n",
    "except ImportError:\n",
    "    autoawq_version = \"AutoAWQ not installed\"\n",
    "\n",
    "# 打印信息\n",
    "print(\"Environment Configuration:\")\n",
    "print(f\"PyTorch Version: {pytorch_version}\")\n",
    "print(f\"CUDA Version: {cuda_version}\")\n",
    "print(f\"Transformers Version: {transformers_version}\")\n",
    "print(f\"Triton Version: {triton_version}\")\n",
    "print(f\"AutoAWQ Version: {autoawq_version}\")\n"
   ]
  },
  {
   "cell_type": "code",
   "execution_count": null,
   "metadata": {},
   "outputs": [],
   "source": []
  }
 ],
 "metadata": {
  "kernelspec": {
   "display_name": "Python 3 (ipykernel)",
   "language": "python",
   "name": "python3"
  },
  "language_info": {
   "codemirror_mode": {
    "name": "ipython",
    "version": 3
   },
   "file_extension": ".py",
   "mimetype": "text/x-python",
   "name": "python",
   "nbconvert_exporter": "python",
   "pygments_lexer": "ipython3",
   "version": "3.10.16"
  }
 },
 "nbformat": 4,
 "nbformat_minor": 4
}
